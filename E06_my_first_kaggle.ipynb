{
  "cells": [
    {
      "cell_type": "markdown",
      "id": "meaning-columbus",
      "metadata": {
        "id": "meaning-columbus"
      },
      "source": [
        "# 나의 첫 번째 캐글 경진대회, 무작정 따라해보기\n",
        "\n",
        "## 프로젝트 설명 \n",
        "- 캐글 베이스라인을 구축해보기\n",
        "- 하이퍼 파라미터 튜닝을 통해 캐글 스코어 올리기   \n",
        "\n",
        "\n",
        "## 프로젝트 목표\n",
        "- 하이퍼 파라미터 튜닝\n",
        "- 데이터 분석\n",
        "\n",
        "## 01. load and preprocess data"
      ]
    },
    {
      "cell_type": "code",
      "execution_count": null,
      "id": "numerous-attachment",
      "metadata": {
        "id": "numerous-attachment"
      },
      "outputs": [],
      "source": [
        "import warnings\n",
        "warnings.filterwarnings(\"ignore\")\n",
        "\n",
        "import os\n",
        "from os.path import join\n",
        "\n",
        "import pandas as pd\n",
        "import numpy as np\n",
        "\n",
        "import missingno as msno\n",
        "\n",
        "from sklearn.ensemble import GradientBoostingRegressor\n",
        "from sklearn.model_selection import KFold, cross_val_score\n",
        "import xgboost as xgb\n",
        "import lightgbm as lgb\n",
        "\n",
        "import matplotlib.pyplot as plt\n",
        "import seaborn as sns"
      ]
    },
    {
      "cell_type": "code",
      "execution_count": null,
      "id": "altered-processor",
      "metadata": {
        "id": "altered-processor"
      },
      "outputs": [],
      "source": [
        "data_dir = os.getenv('HOME')+'/aiffel/kaggle_kakr_housing/data'\n",
        "\n",
        "train_data_path = join(data_dir, 'train.csv')\n",
        "test_data_path = join(data_dir, 'test.csv') \n",
        "\n",
        "train = pd.read_csv(train_data_path)\n",
        "test = pd.read_csv(test_data_path)"
      ]
    },
    {
      "cell_type": "code",
      "execution_count": null,
      "id": "declared-assembly",
      "metadata": {
        "id": "declared-assembly",
        "outputId": "45a9d706-87a3-4e09-f6d6-1a5dec58f668"
      },
      "outputs": [
        {
          "data": {
            "text/html": [
              "<div>\n",
              "<style scoped>\n",
              "    .dataframe tbody tr th:only-of-type {\n",
              "        vertical-align: middle;\n",
              "    }\n",
              "\n",
              "    .dataframe tbody tr th {\n",
              "        vertical-align: top;\n",
              "    }\n",
              "\n",
              "    .dataframe thead th {\n",
              "        text-align: right;\n",
              "    }\n",
              "</style>\n",
              "<table border=\"1\" class=\"dataframe\">\n",
              "  <thead>\n",
              "    <tr style=\"text-align: right;\">\n",
              "      <th></th>\n",
              "      <th>id</th>\n",
              "      <th>date</th>\n",
              "      <th>price</th>\n",
              "      <th>bedrooms</th>\n",
              "      <th>bathrooms</th>\n",
              "      <th>sqft_living</th>\n",
              "      <th>sqft_lot</th>\n",
              "      <th>floors</th>\n",
              "      <th>waterfront</th>\n",
              "      <th>view</th>\n",
              "      <th>...</th>\n",
              "      <th>grade</th>\n",
              "      <th>sqft_above</th>\n",
              "      <th>sqft_basement</th>\n",
              "      <th>yr_built</th>\n",
              "      <th>yr_renovated</th>\n",
              "      <th>zipcode</th>\n",
              "      <th>lat</th>\n",
              "      <th>long</th>\n",
              "      <th>sqft_living15</th>\n",
              "      <th>sqft_lot15</th>\n",
              "    </tr>\n",
              "  </thead>\n",
              "  <tbody>\n",
              "    <tr>\n",
              "      <th>0</th>\n",
              "      <td>0</td>\n",
              "      <td>20141013T000000</td>\n",
              "      <td>221900.0</td>\n",
              "      <td>3</td>\n",
              "      <td>1.00</td>\n",
              "      <td>1180</td>\n",
              "      <td>5650</td>\n",
              "      <td>1.0</td>\n",
              "      <td>0</td>\n",
              "      <td>0</td>\n",
              "      <td>...</td>\n",
              "      <td>7</td>\n",
              "      <td>1180</td>\n",
              "      <td>0</td>\n",
              "      <td>1955</td>\n",
              "      <td>0</td>\n",
              "      <td>98178</td>\n",
              "      <td>47.5112</td>\n",
              "      <td>-122.257</td>\n",
              "      <td>1340</td>\n",
              "      <td>5650</td>\n",
              "    </tr>\n",
              "    <tr>\n",
              "      <th>1</th>\n",
              "      <td>1</td>\n",
              "      <td>20150225T000000</td>\n",
              "      <td>180000.0</td>\n",
              "      <td>2</td>\n",
              "      <td>1.00</td>\n",
              "      <td>770</td>\n",
              "      <td>10000</td>\n",
              "      <td>1.0</td>\n",
              "      <td>0</td>\n",
              "      <td>0</td>\n",
              "      <td>...</td>\n",
              "      <td>6</td>\n",
              "      <td>770</td>\n",
              "      <td>0</td>\n",
              "      <td>1933</td>\n",
              "      <td>0</td>\n",
              "      <td>98028</td>\n",
              "      <td>47.7379</td>\n",
              "      <td>-122.233</td>\n",
              "      <td>2720</td>\n",
              "      <td>8062</td>\n",
              "    </tr>\n",
              "    <tr>\n",
              "      <th>2</th>\n",
              "      <td>2</td>\n",
              "      <td>20150218T000000</td>\n",
              "      <td>510000.0</td>\n",
              "      <td>3</td>\n",
              "      <td>2.00</td>\n",
              "      <td>1680</td>\n",
              "      <td>8080</td>\n",
              "      <td>1.0</td>\n",
              "      <td>0</td>\n",
              "      <td>0</td>\n",
              "      <td>...</td>\n",
              "      <td>8</td>\n",
              "      <td>1680</td>\n",
              "      <td>0</td>\n",
              "      <td>1987</td>\n",
              "      <td>0</td>\n",
              "      <td>98074</td>\n",
              "      <td>47.6168</td>\n",
              "      <td>-122.045</td>\n",
              "      <td>1800</td>\n",
              "      <td>7503</td>\n",
              "    </tr>\n",
              "    <tr>\n",
              "      <th>3</th>\n",
              "      <td>3</td>\n",
              "      <td>20140627T000000</td>\n",
              "      <td>257500.0</td>\n",
              "      <td>3</td>\n",
              "      <td>2.25</td>\n",
              "      <td>1715</td>\n",
              "      <td>6819</td>\n",
              "      <td>2.0</td>\n",
              "      <td>0</td>\n",
              "      <td>0</td>\n",
              "      <td>...</td>\n",
              "      <td>7</td>\n",
              "      <td>1715</td>\n",
              "      <td>0</td>\n",
              "      <td>1995</td>\n",
              "      <td>0</td>\n",
              "      <td>98003</td>\n",
              "      <td>47.3097</td>\n",
              "      <td>-122.327</td>\n",
              "      <td>2238</td>\n",
              "      <td>6819</td>\n",
              "    </tr>\n",
              "    <tr>\n",
              "      <th>4</th>\n",
              "      <td>4</td>\n",
              "      <td>20150115T000000</td>\n",
              "      <td>291850.0</td>\n",
              "      <td>3</td>\n",
              "      <td>1.50</td>\n",
              "      <td>1060</td>\n",
              "      <td>9711</td>\n",
              "      <td>1.0</td>\n",
              "      <td>0</td>\n",
              "      <td>0</td>\n",
              "      <td>...</td>\n",
              "      <td>7</td>\n",
              "      <td>1060</td>\n",
              "      <td>0</td>\n",
              "      <td>1963</td>\n",
              "      <td>0</td>\n",
              "      <td>98198</td>\n",
              "      <td>47.4095</td>\n",
              "      <td>-122.315</td>\n",
              "      <td>1650</td>\n",
              "      <td>9711</td>\n",
              "    </tr>\n",
              "  </tbody>\n",
              "</table>\n",
              "<p>5 rows × 21 columns</p>\n",
              "</div>"
            ],
            "text/plain": [
              "   id             date     price  bedrooms  bathrooms  sqft_living  sqft_lot  \\\n",
              "0   0  20141013T000000  221900.0         3       1.00         1180      5650   \n",
              "1   1  20150225T000000  180000.0         2       1.00          770     10000   \n",
              "2   2  20150218T000000  510000.0         3       2.00         1680      8080   \n",
              "3   3  20140627T000000  257500.0         3       2.25         1715      6819   \n",
              "4   4  20150115T000000  291850.0         3       1.50         1060      9711   \n",
              "\n",
              "   floors  waterfront  view  ...  grade  sqft_above  sqft_basement  yr_built  \\\n",
              "0     1.0           0     0  ...      7        1180              0      1955   \n",
              "1     1.0           0     0  ...      6         770              0      1933   \n",
              "2     1.0           0     0  ...      8        1680              0      1987   \n",
              "3     2.0           0     0  ...      7        1715              0      1995   \n",
              "4     1.0           0     0  ...      7        1060              0      1963   \n",
              "\n",
              "   yr_renovated  zipcode      lat     long  sqft_living15  sqft_lot15  \n",
              "0             0    98178  47.5112 -122.257           1340        5650  \n",
              "1             0    98028  47.7379 -122.233           2720        8062  \n",
              "2             0    98074  47.6168 -122.045           1800        7503  \n",
              "3             0    98003  47.3097 -122.327           2238        6819  \n",
              "4             0    98198  47.4095 -122.315           1650        9711  \n",
              "\n",
              "[5 rows x 21 columns]"
            ]
          },
          "execution_count": 4,
          "metadata": {},
          "output_type": "execute_result"
        }
      ],
      "source": [
        "train.head()"
      ]
    },
    {
      "cell_type": "markdown",
      "id": "essential-stopping",
      "metadata": {
        "id": "essential-stopping"
      },
      "source": [
        "- date 문자열 전처리"
      ]
    },
    {
      "cell_type": "code",
      "execution_count": null,
      "id": "architectural-variance",
      "metadata": {
        "id": "architectural-variance",
        "outputId": "35b474d4-78f9-4ecc-d81e-fe7edea38c88"
      },
      "outputs": [
        {
          "data": {
            "text/html": [
              "<div>\n",
              "<style scoped>\n",
              "    .dataframe tbody tr th:only-of-type {\n",
              "        vertical-align: middle;\n",
              "    }\n",
              "\n",
              "    .dataframe tbody tr th {\n",
              "        vertical-align: top;\n",
              "    }\n",
              "\n",
              "    .dataframe thead th {\n",
              "        text-align: right;\n",
              "    }\n",
              "</style>\n",
              "<table border=\"1\" class=\"dataframe\">\n",
              "  <thead>\n",
              "    <tr style=\"text-align: right;\">\n",
              "      <th></th>\n",
              "      <th>id</th>\n",
              "      <th>date</th>\n",
              "      <th>price</th>\n",
              "      <th>bedrooms</th>\n",
              "      <th>bathrooms</th>\n",
              "      <th>sqft_living</th>\n",
              "      <th>sqft_lot</th>\n",
              "      <th>floors</th>\n",
              "      <th>waterfront</th>\n",
              "      <th>view</th>\n",
              "      <th>...</th>\n",
              "      <th>grade</th>\n",
              "      <th>sqft_above</th>\n",
              "      <th>sqft_basement</th>\n",
              "      <th>yr_built</th>\n",
              "      <th>yr_renovated</th>\n",
              "      <th>zipcode</th>\n",
              "      <th>lat</th>\n",
              "      <th>long</th>\n",
              "      <th>sqft_living15</th>\n",
              "      <th>sqft_lot15</th>\n",
              "    </tr>\n",
              "  </thead>\n",
              "  <tbody>\n",
              "    <tr>\n",
              "      <th>0</th>\n",
              "      <td>0</td>\n",
              "      <td>1410</td>\n",
              "      <td>221900.0</td>\n",
              "      <td>3</td>\n",
              "      <td>1.00</td>\n",
              "      <td>1180</td>\n",
              "      <td>5650</td>\n",
              "      <td>1.0</td>\n",
              "      <td>0</td>\n",
              "      <td>0</td>\n",
              "      <td>...</td>\n",
              "      <td>7</td>\n",
              "      <td>1180</td>\n",
              "      <td>0</td>\n",
              "      <td>1955</td>\n",
              "      <td>0</td>\n",
              "      <td>98178</td>\n",
              "      <td>47.5112</td>\n",
              "      <td>-122.257</td>\n",
              "      <td>1340</td>\n",
              "      <td>5650</td>\n",
              "    </tr>\n",
              "    <tr>\n",
              "      <th>1</th>\n",
              "      <td>1</td>\n",
              "      <td>1502</td>\n",
              "      <td>180000.0</td>\n",
              "      <td>2</td>\n",
              "      <td>1.00</td>\n",
              "      <td>770</td>\n",
              "      <td>10000</td>\n",
              "      <td>1.0</td>\n",
              "      <td>0</td>\n",
              "      <td>0</td>\n",
              "      <td>...</td>\n",
              "      <td>6</td>\n",
              "      <td>770</td>\n",
              "      <td>0</td>\n",
              "      <td>1933</td>\n",
              "      <td>0</td>\n",
              "      <td>98028</td>\n",
              "      <td>47.7379</td>\n",
              "      <td>-122.233</td>\n",
              "      <td>2720</td>\n",
              "      <td>8062</td>\n",
              "    </tr>\n",
              "    <tr>\n",
              "      <th>2</th>\n",
              "      <td>2</td>\n",
              "      <td>1502</td>\n",
              "      <td>510000.0</td>\n",
              "      <td>3</td>\n",
              "      <td>2.00</td>\n",
              "      <td>1680</td>\n",
              "      <td>8080</td>\n",
              "      <td>1.0</td>\n",
              "      <td>0</td>\n",
              "      <td>0</td>\n",
              "      <td>...</td>\n",
              "      <td>8</td>\n",
              "      <td>1680</td>\n",
              "      <td>0</td>\n",
              "      <td>1987</td>\n",
              "      <td>0</td>\n",
              "      <td>98074</td>\n",
              "      <td>47.6168</td>\n",
              "      <td>-122.045</td>\n",
              "      <td>1800</td>\n",
              "      <td>7503</td>\n",
              "    </tr>\n",
              "    <tr>\n",
              "      <th>3</th>\n",
              "      <td>3</td>\n",
              "      <td>1406</td>\n",
              "      <td>257500.0</td>\n",
              "      <td>3</td>\n",
              "      <td>2.25</td>\n",
              "      <td>1715</td>\n",
              "      <td>6819</td>\n",
              "      <td>2.0</td>\n",
              "      <td>0</td>\n",
              "      <td>0</td>\n",
              "      <td>...</td>\n",
              "      <td>7</td>\n",
              "      <td>1715</td>\n",
              "      <td>0</td>\n",
              "      <td>1995</td>\n",
              "      <td>0</td>\n",
              "      <td>98003</td>\n",
              "      <td>47.3097</td>\n",
              "      <td>-122.327</td>\n",
              "      <td>2238</td>\n",
              "      <td>6819</td>\n",
              "    </tr>\n",
              "    <tr>\n",
              "      <th>4</th>\n",
              "      <td>4</td>\n",
              "      <td>1501</td>\n",
              "      <td>291850.0</td>\n",
              "      <td>3</td>\n",
              "      <td>1.50</td>\n",
              "      <td>1060</td>\n",
              "      <td>9711</td>\n",
              "      <td>1.0</td>\n",
              "      <td>0</td>\n",
              "      <td>0</td>\n",
              "      <td>...</td>\n",
              "      <td>7</td>\n",
              "      <td>1060</td>\n",
              "      <td>0</td>\n",
              "      <td>1963</td>\n",
              "      <td>0</td>\n",
              "      <td>98198</td>\n",
              "      <td>47.4095</td>\n",
              "      <td>-122.315</td>\n",
              "      <td>1650</td>\n",
              "      <td>9711</td>\n",
              "    </tr>\n",
              "  </tbody>\n",
              "</table>\n",
              "<p>5 rows × 21 columns</p>\n",
              "</div>"
            ],
            "text/plain": [
              "   id  date     price  bedrooms  bathrooms  sqft_living  sqft_lot  floors  \\\n",
              "0   0  1410  221900.0         3       1.00         1180      5650     1.0   \n",
              "1   1  1502  180000.0         2       1.00          770     10000     1.0   \n",
              "2   2  1502  510000.0         3       2.00         1680      8080     1.0   \n",
              "3   3  1406  257500.0         3       2.25         1715      6819     2.0   \n",
              "4   4  1501  291850.0         3       1.50         1060      9711     1.0   \n",
              "\n",
              "   waterfront  view  ...  grade  sqft_above  sqft_basement  yr_built  \\\n",
              "0           0     0  ...      7        1180              0      1955   \n",
              "1           0     0  ...      6         770              0      1933   \n",
              "2           0     0  ...      8        1680              0      1987   \n",
              "3           0     0  ...      7        1715              0      1995   \n",
              "4           0     0  ...      7        1060              0      1963   \n",
              "\n",
              "   yr_renovated  zipcode      lat     long  sqft_living15  sqft_lot15  \n",
              "0             0    98178  47.5112 -122.257           1340        5650  \n",
              "1             0    98028  47.7379 -122.233           2720        8062  \n",
              "2             0    98074  47.6168 -122.045           1800        7503  \n",
              "3             0    98003  47.3097 -122.327           2238        6819  \n",
              "4             0    98198  47.4095 -122.315           1650        9711  \n",
              "\n",
              "[5 rows x 21 columns]"
            ]
          },
          "execution_count": 5,
          "metadata": {},
          "output_type": "execute_result"
        }
      ],
      "source": [
        "train['date'] = train['date'].apply(lambda i: i[2:6]).astype(int)  # int로 변경\n",
        "train.head()"
      ]
    },
    {
      "cell_type": "markdown",
      "id": "rolled-malawi",
      "metadata": {
        "id": "rolled-malawi"
      },
      "source": [
        "- **각 feature와 price의 상관관계**를 알아보고, 연관성이 적은 feature를 삭제"
      ]
    },
    {
      "cell_type": "code",
      "execution_count": null,
      "id": "robust-toddler",
      "metadata": {
        "id": "robust-toddler",
        "outputId": "c2ed7d38-5b1a-46ab-812e-93f53c11aa13"
      },
      "outputs": [
        {
          "name": "stdout",
          "output_type": "stream",
          "text": [
            "['price' 'grade' 'sqft_living' 'sqft_living15' 'sqft_above' 'bathrooms'\n",
            " 'lat' 'bedrooms' 'floors' 'view' 'sqft_basement' 'waterfront'\n",
            " 'yr_renovated' 'yr_built' 'sqft_lot' 'long' 'sqft_lot15' 'id' 'condition'\n",
            " 'zipcode' 'date']\n"
          ]
        },
        {
          "data": {
            "text/plain": [
              "<AxesSubplot:>"
            ]
          },
          "execution_count": 6,
          "metadata": {},
          "output_type": "execute_result"
        },
        {
          "data": {
            "image/png": "[encoded data removed]",
            "text/plain": [
              "<Figure size 720x720 with 2 Axes>"
            ]
          },
          "metadata": {
            "needs_background": "light"
          },
          "output_type": "display_data"
        }
      ],
      "source": [
        "import scipy as sp\n",
        "\n",
        "cor_abs = abs(train.corr(method='spearman')) \n",
        "cor_cols = cor_abs.nlargest(n=21,columns='price').index # 상위 10개 지정\n",
        "# spearman coefficient matrix\n",
        "cor = np.array(sp.stats.spearmanr(train[cor_cols].values))[0] # 10 x 10\n",
        "print(cor_cols.values)\n",
        "plt.figure(figsize=(10,10))\n",
        "sns.set(font_scale=1.25)\n",
        "sns.heatmap(cor, fmt='.2f', annot=True, square=True , annot_kws={'size' : 8} ,xticklabels=cor_cols.values, yticklabels=cor_cols.values)"
      ]
    },
    {
      "cell_type": "code",
      "execution_count": null,
      "id": "therapeutic-turkish",
      "metadata": {
        "id": "therapeutic-turkish",
        "outputId": "1039646c-abb7-4a91-eca5-9452e4c9d9c7"
      },
      "outputs": [
        {
          "data": {
            "text/plain": [
              "0    98178\n",
              "1    98028\n",
              "2    98074\n",
              "3    98003\n",
              "4    98198\n",
              "5    98007\n",
              "6    98115\n",
              "7    98028\n",
              "8    98074\n",
              "9    98107\n",
              "Name: zipcode, dtype: int64"
            ]
          },
          "execution_count": 7,
          "metadata": {},
          "output_type": "execute_result"
        }
      ],
      "source": [
        "train.zipcode[:10]"
      ]
    },
    {
      "cell_type": "markdown",
      "id": "illegal-worth",
      "metadata": {
        "id": "illegal-worth"
      },
      "source": [
        "- target data인 price 처리"
      ]
    },
    {
      "cell_type": "code",
      "execution_count": null,
      "id": "united-enemy",
      "metadata": {
        "id": "united-enemy",
        "outputId": "0a0e8b93-698e-4c58-d5be-30696cbd8d33"
      },
      "outputs": [
        {
          "name": "stdout",
          "output_type": "stream",
          "text": [
            "Index(['id', 'date', 'bedrooms', 'bathrooms', 'sqft_living', 'sqft_lot',\n",
            "       'floors', 'waterfront', 'view', 'condition', 'grade', 'sqft_above',\n",
            "       'sqft_basement', 'yr_built', 'yr_renovated', 'zipcode', 'lat', 'long',\n",
            "       'sqft_living15', 'sqft_lot15'],\n",
            "      dtype='object')\n"
          ]
        }
      ],
      "source": [
        "y = train['price']\n",
        "del train['price']\n",
        "\n",
        "print(train.columns)"
      ]
    },
    {
      "cell_type": "markdown",
      "id": "political-concept",
      "metadata": {
        "id": "political-concept"
      },
      "source": [
        "- id 컬럼 삭제"
      ]
    },
    {
      "cell_type": "code",
      "execution_count": null,
      "id": "beneficial-envelope",
      "metadata": {
        "id": "beneficial-envelope",
        "outputId": "b4667192-2900-49a3-f888-a8f3ae3b97de"
      },
      "outputs": [
        {
          "name": "stdout",
          "output_type": "stream",
          "text": [
            "Index(['date', 'bedrooms', 'bathrooms', 'sqft_living', 'sqft_lot', 'floors',\n",
            "       'waterfront', 'view', 'condition', 'grade', 'sqft_above',\n",
            "       'sqft_basement', 'yr_built', 'yr_renovated', 'zipcode', 'lat', 'long',\n",
            "       'sqft_living15', 'sqft_lot15'],\n",
            "      dtype='object')\n"
          ]
        }
      ],
      "source": [
        "del train['id']\n",
        "print(train.columns)"
      ]
    },
    {
      "cell_type": "code",
      "execution_count": null,
      "id": "hungry-rating",
      "metadata": {
        "scrolled": true,
        "id": "hungry-rating",
        "outputId": "57e476a0-b56a-4579-f02a-c0b44ec77430"
      },
      "outputs": [
        {
          "data": {
            "text/html": [
              "<div>\n",
              "<style scoped>\n",
              "    .dataframe tbody tr th:only-of-type {\n",
              "        vertical-align: middle;\n",
              "    }\n",
              "\n",
              "    .dataframe tbody tr th {\n",
              "        vertical-align: top;\n",
              "    }\n",
              "\n",
              "    .dataframe thead th {\n",
              "        text-align: right;\n",
              "    }\n",
              "</style>\n",
              "<table border=\"1\" class=\"dataframe\">\n",
              "  <thead>\n",
              "    <tr style=\"text-align: right;\">\n",
              "      <th></th>\n",
              "      <th>date</th>\n",
              "      <th>bedrooms</th>\n",
              "      <th>bathrooms</th>\n",
              "      <th>sqft_living</th>\n",
              "      <th>sqft_lot</th>\n",
              "      <th>floors</th>\n",
              "      <th>waterfront</th>\n",
              "      <th>view</th>\n",
              "      <th>condition</th>\n",
              "      <th>grade</th>\n",
              "      <th>sqft_above</th>\n",
              "      <th>sqft_basement</th>\n",
              "      <th>yr_built</th>\n",
              "      <th>yr_renovated</th>\n",
              "      <th>zipcode</th>\n",
              "      <th>lat</th>\n",
              "      <th>long</th>\n",
              "      <th>sqft_living15</th>\n",
              "      <th>sqft_lot15</th>\n",
              "    </tr>\n",
              "  </thead>\n",
              "  <tbody>\n",
              "    <tr>\n",
              "      <th>count</th>\n",
              "      <td>15035.000000</td>\n",
              "      <td>15035.000000</td>\n",
              "      <td>15035.000000</td>\n",
              "      <td>15035.000000</td>\n",
              "      <td>1.503500e+04</td>\n",
              "      <td>15035.000000</td>\n",
              "      <td>15035.000000</td>\n",
              "      <td>15035.000000</td>\n",
              "      <td>15035.000000</td>\n",
              "      <td>15035.000000</td>\n",
              "      <td>15035.000000</td>\n",
              "      <td>15035.000000</td>\n",
              "      <td>15035.000000</td>\n",
              "      <td>15035.000000</td>\n",
              "      <td>15035.000000</td>\n",
              "      <td>15035.000000</td>\n",
              "      <td>15035.000000</td>\n",
              "      <td>15035.000000</td>\n",
              "      <td>15035.000000</td>\n",
              "    </tr>\n",
              "    <tr>\n",
              "      <th>mean</th>\n",
              "      <td>1438.545993</td>\n",
              "      <td>3.369139</td>\n",
              "      <td>2.115065</td>\n",
              "      <td>2083.790223</td>\n",
              "      <td>1.529697e+04</td>\n",
              "      <td>1.498071</td>\n",
              "      <td>0.007117</td>\n",
              "      <td>0.234253</td>\n",
              "      <td>3.406651</td>\n",
              "      <td>7.660725</td>\n",
              "      <td>1794.158164</td>\n",
              "      <td>289.632059</td>\n",
              "      <td>1971.100432</td>\n",
              "      <td>83.798936</td>\n",
              "      <td>98078.031726</td>\n",
              "      <td>47.560721</td>\n",
              "      <td>-122.213677</td>\n",
              "      <td>1992.754772</td>\n",
              "      <td>12823.884935</td>\n",
              "    </tr>\n",
              "    <tr>\n",
              "      <th>std</th>\n",
              "      <td>44.252050</td>\n",
              "      <td>0.902721</td>\n",
              "      <td>0.767519</td>\n",
              "      <td>922.134087</td>\n",
              "      <td>4.261282e+04</td>\n",
              "      <td>0.538522</td>\n",
              "      <td>0.084063</td>\n",
              "      <td>0.763376</td>\n",
              "      <td>0.646505</td>\n",
              "      <td>1.179803</td>\n",
              "      <td>831.738609</td>\n",
              "      <td>440.663284</td>\n",
              "      <td>29.407612</td>\n",
              "      <td>400.398498</td>\n",
              "      <td>53.297815</td>\n",
              "      <td>0.138164</td>\n",
              "      <td>0.141294</td>\n",
              "      <td>691.456442</td>\n",
              "      <td>27736.259787</td>\n",
              "    </tr>\n",
              "    <tr>\n",
              "      <th>min</th>\n",
              "      <td>1405.000000</td>\n",
              "      <td>0.000000</td>\n",
              "      <td>0.000000</td>\n",
              "      <td>290.000000</td>\n",
              "      <td>5.200000e+02</td>\n",
              "      <td>1.000000</td>\n",
              "      <td>0.000000</td>\n",
              "      <td>0.000000</td>\n",
              "      <td>1.000000</td>\n",
              "      <td>1.000000</td>\n",
              "      <td>290.000000</td>\n",
              "      <td>0.000000</td>\n",
              "      <td>1900.000000</td>\n",
              "      <td>0.000000</td>\n",
              "      <td>98001.000000</td>\n",
              "      <td>47.155900</td>\n",
              "      <td>-122.519000</td>\n",
              "      <td>399.000000</td>\n",
              "      <td>651.000000</td>\n",
              "    </tr>\n",
              "    <tr>\n",
              "      <th>25%</th>\n",
              "      <td>1407.000000</td>\n",
              "      <td>3.000000</td>\n",
              "      <td>1.750000</td>\n",
              "      <td>1430.000000</td>\n",
              "      <td>5.027500e+03</td>\n",
              "      <td>1.000000</td>\n",
              "      <td>0.000000</td>\n",
              "      <td>0.000000</td>\n",
              "      <td>3.000000</td>\n",
              "      <td>7.000000</td>\n",
              "      <td>1190.000000</td>\n",
              "      <td>0.000000</td>\n",
              "      <td>1951.000000</td>\n",
              "      <td>0.000000</td>\n",
              "      <td>98033.000000</td>\n",
              "      <td>47.472700</td>\n",
              "      <td>-122.328000</td>\n",
              "      <td>1490.000000</td>\n",
              "      <td>5100.000000</td>\n",
              "    </tr>\n",
              "    <tr>\n",
              "      <th>50%</th>\n",
              "      <td>1410.000000</td>\n",
              "      <td>3.000000</td>\n",
              "      <td>2.250000</td>\n",
              "      <td>1910.000000</td>\n",
              "      <td>7.620000e+03</td>\n",
              "      <td>1.500000</td>\n",
              "      <td>0.000000</td>\n",
              "      <td>0.000000</td>\n",
              "      <td>3.000000</td>\n",
              "      <td>7.000000</td>\n",
              "      <td>1570.000000</td>\n",
              "      <td>0.000000</td>\n",
              "      <td>1975.000000</td>\n",
              "      <td>0.000000</td>\n",
              "      <td>98065.000000</td>\n",
              "      <td>47.571900</td>\n",
              "      <td>-122.231000</td>\n",
              "      <td>1850.000000</td>\n",
              "      <td>7610.000000</td>\n",
              "    </tr>\n",
              "    <tr>\n",
              "      <th>75%</th>\n",
              "      <td>1502.000000</td>\n",
              "      <td>4.000000</td>\n",
              "      <td>2.500000</td>\n",
              "      <td>2560.000000</td>\n",
              "      <td>1.069550e+04</td>\n",
              "      <td>2.000000</td>\n",
              "      <td>0.000000</td>\n",
              "      <td>0.000000</td>\n",
              "      <td>4.000000</td>\n",
              "      <td>8.000000</td>\n",
              "      <td>2230.000000</td>\n",
              "      <td>550.000000</td>\n",
              "      <td>1997.000000</td>\n",
              "      <td>0.000000</td>\n",
              "      <td>98117.000000</td>\n",
              "      <td>47.678300</td>\n",
              "      <td>-122.126000</td>\n",
              "      <td>2360.000000</td>\n",
              "      <td>10076.000000</td>\n",
              "    </tr>\n",
              "    <tr>\n",
              "      <th>max</th>\n",
              "      <td>1505.000000</td>\n",
              "      <td>10.000000</td>\n",
              "      <td>8.000000</td>\n",
              "      <td>13540.000000</td>\n",
              "      <td>1.651359e+06</td>\n",
              "      <td>3.500000</td>\n",
              "      <td>1.000000</td>\n",
              "      <td>4.000000</td>\n",
              "      <td>5.000000</td>\n",
              "      <td>13.000000</td>\n",
              "      <td>9410.000000</td>\n",
              "      <td>4130.000000</td>\n",
              "      <td>2015.000000</td>\n",
              "      <td>2015.000000</td>\n",
              "      <td>98199.000000</td>\n",
              "      <td>47.777600</td>\n",
              "      <td>-121.315000</td>\n",
              "      <td>6210.000000</td>\n",
              "      <td>871200.000000</td>\n",
              "    </tr>\n",
              "  </tbody>\n",
              "</table>\n",
              "</div>"
            ],
            "text/plain": [
              "               date      bedrooms     bathrooms   sqft_living      sqft_lot  \\\n",
              "count  15035.000000  15035.000000  15035.000000  15035.000000  1.503500e+04   \n",
              "mean    1438.545993      3.369139      2.115065   2083.790223  1.529697e+04   \n",
              "std       44.252050      0.902721      0.767519    922.134087  4.261282e+04   \n",
              "min     1405.000000      0.000000      0.000000    290.000000  5.200000e+02   \n",
              "25%     1407.000000      3.000000      1.750000   1430.000000  5.027500e+03   \n",
              "50%     1410.000000      3.000000      2.250000   1910.000000  7.620000e+03   \n",
              "75%     1502.000000      4.000000      2.500000   2560.000000  1.069550e+04   \n",
              "max     1505.000000     10.000000      8.000000  13540.000000  1.651359e+06   \n",
              "\n",
              "             floors    waterfront          view     condition         grade  \\\n",
              "count  15035.000000  15035.000000  15035.000000  15035.000000  15035.000000   \n",
              "mean       1.498071      0.007117      0.234253      3.406651      7.660725   \n",
              "std        0.538522      0.084063      0.763376      0.646505      1.179803   \n",
              "min        1.000000      0.000000      0.000000      1.000000      1.000000   \n",
              "25%        1.000000      0.000000      0.000000      3.000000      7.000000   \n",
              "50%        1.500000      0.000000      0.000000      3.000000      7.000000   \n",
              "75%        2.000000      0.000000      0.000000      4.000000      8.000000   \n",
              "max        3.500000      1.000000      4.000000      5.000000     13.000000   \n",
              "\n",
              "         sqft_above  sqft_basement      yr_built  yr_renovated       zipcode  \\\n",
              "count  15035.000000   15035.000000  15035.000000  15035.000000  15035.000000   \n",
              "mean    1794.158164     289.632059   1971.100432     83.798936  98078.031726   \n",
              "std      831.738609     440.663284     29.407612    400.398498     53.297815   \n",
              "min      290.000000       0.000000   1900.000000      0.000000  98001.000000   \n",
              "25%     1190.000000       0.000000   1951.000000      0.000000  98033.000000   \n",
              "50%     1570.000000       0.000000   1975.000000      0.000000  98065.000000   \n",
              "75%     2230.000000     550.000000   1997.000000      0.000000  98117.000000   \n",
              "max     9410.000000    4130.000000   2015.000000   2015.000000  98199.000000   \n",
              "\n",
              "                lat          long  sqft_living15     sqft_lot15  \n",
              "count  15035.000000  15035.000000   15035.000000   15035.000000  \n",
              "mean      47.560721   -122.213677    1992.754772   12823.884935  \n",
              "std        0.138164      0.141294     691.456442   27736.259787  \n",
              "min       47.155900   -122.519000     399.000000     651.000000  \n",
              "25%       47.472700   -122.328000    1490.000000    5100.000000  \n",
              "50%       47.571900   -122.231000    1850.000000    7610.000000  \n",
              "75%       47.678300   -122.126000    2360.000000   10076.000000  \n",
              "max       47.777600   -121.315000    6210.000000  871200.000000  "
            ]
          },
          "execution_count": 10,
          "metadata": {},
          "output_type": "execute_result"
        }
      ],
      "source": [
        "train.describe()"
      ]
    },
    {
      "cell_type": "code",
      "execution_count": null,
      "id": "mighty-guest",
      "metadata": {
        "id": "mighty-guest",
        "outputId": "255ad7b8-0a35-42eb-d00d-743ad783ae63"
      },
      "outputs": [
        {
          "data": {
            "text/html": [
              "<div>\n",
              "<style scoped>\n",
              "    .dataframe tbody tr th:only-of-type {\n",
              "        vertical-align: middle;\n",
              "    }\n",
              "\n",
              "    .dataframe tbody tr th {\n",
              "        vertical-align: top;\n",
              "    }\n",
              "\n",
              "    .dataframe thead th {\n",
              "        text-align: right;\n",
              "    }\n",
              "</style>\n",
              "<table border=\"1\" class=\"dataframe\">\n",
              "  <thead>\n",
              "    <tr style=\"text-align: right;\">\n",
              "      <th></th>\n",
              "      <th>id</th>\n",
              "      <th>date</th>\n",
              "      <th>bedrooms</th>\n",
              "      <th>bathrooms</th>\n",
              "      <th>sqft_living</th>\n",
              "      <th>sqft_lot</th>\n",
              "      <th>floors</th>\n",
              "      <th>waterfront</th>\n",
              "      <th>view</th>\n",
              "      <th>condition</th>\n",
              "      <th>grade</th>\n",
              "      <th>sqft_above</th>\n",
              "      <th>sqft_basement</th>\n",
              "      <th>yr_built</th>\n",
              "      <th>yr_renovated</th>\n",
              "      <th>zipcode</th>\n",
              "      <th>lat</th>\n",
              "      <th>long</th>\n",
              "      <th>sqft_living15</th>\n",
              "      <th>sqft_lot15</th>\n",
              "    </tr>\n",
              "  </thead>\n",
              "  <tbody>\n",
              "    <tr>\n",
              "      <th>0</th>\n",
              "      <td>15035</td>\n",
              "      <td>20141209T000000</td>\n",
              "      <td>3</td>\n",
              "      <td>2.25</td>\n",
              "      <td>2570</td>\n",
              "      <td>7242</td>\n",
              "      <td>2.0</td>\n",
              "      <td>0</td>\n",
              "      <td>0</td>\n",
              "      <td>3</td>\n",
              "      <td>7</td>\n",
              "      <td>2170</td>\n",
              "      <td>400</td>\n",
              "      <td>1951</td>\n",
              "      <td>1991</td>\n",
              "      <td>98125</td>\n",
              "      <td>47.7210</td>\n",
              "      <td>-122.319</td>\n",
              "      <td>1690</td>\n",
              "      <td>7639</td>\n",
              "    </tr>\n",
              "    <tr>\n",
              "      <th>1</th>\n",
              "      <td>15036</td>\n",
              "      <td>20141209T000000</td>\n",
              "      <td>4</td>\n",
              "      <td>3.00</td>\n",
              "      <td>1960</td>\n",
              "      <td>5000</td>\n",
              "      <td>1.0</td>\n",
              "      <td>0</td>\n",
              "      <td>0</td>\n",
              "      <td>5</td>\n",
              "      <td>7</td>\n",
              "      <td>1050</td>\n",
              "      <td>910</td>\n",
              "      <td>1965</td>\n",
              "      <td>0</td>\n",
              "      <td>98136</td>\n",
              "      <td>47.5208</td>\n",
              "      <td>-122.393</td>\n",
              "      <td>1360</td>\n",
              "      <td>5000</td>\n",
              "    </tr>\n",
              "    <tr>\n",
              "      <th>2</th>\n",
              "      <td>15037</td>\n",
              "      <td>20140512T000000</td>\n",
              "      <td>4</td>\n",
              "      <td>4.50</td>\n",
              "      <td>5420</td>\n",
              "      <td>101930</td>\n",
              "      <td>1.0</td>\n",
              "      <td>0</td>\n",
              "      <td>0</td>\n",
              "      <td>3</td>\n",
              "      <td>11</td>\n",
              "      <td>3890</td>\n",
              "      <td>1530</td>\n",
              "      <td>2001</td>\n",
              "      <td>0</td>\n",
              "      <td>98053</td>\n",
              "      <td>47.6561</td>\n",
              "      <td>-122.005</td>\n",
              "      <td>4760</td>\n",
              "      <td>101930</td>\n",
              "    </tr>\n",
              "    <tr>\n",
              "      <th>3</th>\n",
              "      <td>15038</td>\n",
              "      <td>20150415T000000</td>\n",
              "      <td>3</td>\n",
              "      <td>1.00</td>\n",
              "      <td>1780</td>\n",
              "      <td>7470</td>\n",
              "      <td>1.0</td>\n",
              "      <td>0</td>\n",
              "      <td>0</td>\n",
              "      <td>3</td>\n",
              "      <td>7</td>\n",
              "      <td>1050</td>\n",
              "      <td>730</td>\n",
              "      <td>1960</td>\n",
              "      <td>0</td>\n",
              "      <td>98146</td>\n",
              "      <td>47.5123</td>\n",
              "      <td>-122.337</td>\n",
              "      <td>1780</td>\n",
              "      <td>8113</td>\n",
              "    </tr>\n",
              "    <tr>\n",
              "      <th>4</th>\n",
              "      <td>15039</td>\n",
              "      <td>20150312T000000</td>\n",
              "      <td>3</td>\n",
              "      <td>2.50</td>\n",
              "      <td>1890</td>\n",
              "      <td>6560</td>\n",
              "      <td>2.0</td>\n",
              "      <td>0</td>\n",
              "      <td>0</td>\n",
              "      <td>3</td>\n",
              "      <td>7</td>\n",
              "      <td>1890</td>\n",
              "      <td>0</td>\n",
              "      <td>2003</td>\n",
              "      <td>0</td>\n",
              "      <td>98038</td>\n",
              "      <td>47.3684</td>\n",
              "      <td>-122.031</td>\n",
              "      <td>2390</td>\n",
              "      <td>7570</td>\n",
              "    </tr>\n",
              "  </tbody>\n",
              "</table>\n",
              "</div>"
            ],
            "text/plain": [
              "      id             date  bedrooms  bathrooms  sqft_living  sqft_lot  floors  \\\n",
              "0  15035  20141209T000000         3       2.25         2570      7242     2.0   \n",
              "1  15036  20141209T000000         4       3.00         1960      5000     1.0   \n",
              "2  15037  20140512T000000         4       4.50         5420    101930     1.0   \n",
              "3  15038  20150415T000000         3       1.00         1780      7470     1.0   \n",
              "4  15039  20150312T000000         3       2.50         1890      6560     2.0   \n",
              "\n",
              "   waterfront  view  condition  grade  sqft_above  sqft_basement  yr_built  \\\n",
              "0           0     0          3      7        2170            400      1951   \n",
              "1           0     0          5      7        1050            910      1965   \n",
              "2           0     0          3     11        3890           1530      2001   \n",
              "3           0     0          3      7        1050            730      1960   \n",
              "4           0     0          3      7        1890              0      2003   \n",
              "\n",
              "   yr_renovated  zipcode      lat     long  sqft_living15  sqft_lot15  \n",
              "0          1991    98125  47.7210 -122.319           1690        7639  \n",
              "1             0    98136  47.5208 -122.393           1360        5000  \n",
              "2             0    98053  47.6561 -122.005           4760      101930  \n",
              "3             0    98146  47.5123 -122.337           1780        8113  \n",
              "4             0    98038  47.3684 -122.031           2390        7570  "
            ]
          },
          "execution_count": 11,
          "metadata": {},
          "output_type": "execute_result"
        }
      ],
      "source": [
        "test.head()"
      ]
    },
    {
      "cell_type": "markdown",
      "id": "exclusive-tourist",
      "metadata": {
        "id": "exclusive-tourist"
      },
      "source": [
        "- test data도 똑같이 전처리 해줍니다.\n",
        "    - 단 price는 없음 "
      ]
    },
    {
      "cell_type": "code",
      "execution_count": null,
      "id": "governmental-participation",
      "metadata": {
        "id": "governmental-participation",
        "outputId": "3911ae5a-63e7-42d9-f8e3-71a95dda11fa"
      },
      "outputs": [
        {
          "name": "stdout",
          "output_type": "stream",
          "text": [
            "Index(['date', 'bedrooms', 'bathrooms', 'sqft_living', 'sqft_lot', 'floors',\n",
            "       'waterfront', 'view', 'condition', 'grade', 'sqft_above',\n",
            "       'sqft_basement', 'yr_built', 'yr_renovated', 'zipcode', 'lat', 'long',\n",
            "       'sqft_living15', 'sqft_lot15'],\n",
            "      dtype='object')\n"
          ]
        }
      ],
      "source": [
        "test['date'] = test['date'].apply(lambda i: i[2:6]).astype(int)\n",
        "\n",
        "del test['id']\n",
        "\n",
        "print(test.columns)"
      ]
    },
    {
      "cell_type": "markdown",
      "id": "inappropriate-berry",
      "metadata": {
        "id": "inappropriate-berry"
      },
      "source": [
        "- target data 전처리"
      ]
    },
    {
      "cell_type": "code",
      "execution_count": null,
      "id": "sixth-length",
      "metadata": {
        "id": "sixth-length",
        "outputId": "acdf1169-1d33-41ac-bc04-d213d5a809cc"
      },
      "outputs": [
        {
          "data": {
            "text/plain": [
              "0         221900.0\n",
              "1         180000.0\n",
              "2         510000.0\n",
              "3         257500.0\n",
              "4         291850.0\n",
              "           ...    \n",
              "15030     610685.0\n",
              "15031    1007500.0\n",
              "15032     360000.0\n",
              "15033     400000.0\n",
              "15034     325000.0\n",
              "Name: price, Length: 15035, dtype: float64"
            ]
          },
          "execution_count": 13,
          "metadata": {},
          "output_type": "execute_result"
        }
      ],
      "source": [
        "y"
      ]
    },
    {
      "cell_type": "code",
      "execution_count": null,
      "id": "bacterial-procurement",
      "metadata": {
        "id": "bacterial-procurement",
        "outputId": "1c851202-3f6b-4880-faaa-6d34280a68e5"
      },
      "outputs": [
        {
          "data": {
            "image/png": "[encoded data removed]",
            "text/plain": [
              "<Figure size 432x288 with 1 Axes>"
            ]
          },
          "metadata": {},
          "output_type": "display_data"
        }
      ],
      "source": [
        "sns.kdeplot(y)\n",
        "plt.show()"
      ]
    },
    {
      "cell_type": "markdown",
      "id": "entire-scenario",
      "metadata": {
        "id": "entire-scenario"
      },
      "source": [
        "- 분포와 price값 스케일이 크다.\n",
        "- 왼쪽으로 치우쳐져있는 price를 로그 변환처리해준다."
      ]
    },
    {
      "cell_type": "code",
      "execution_count": null,
      "id": "incomplete-harvard",
      "metadata": {
        "id": "incomplete-harvard",
        "outputId": "e07ccaed-4e08-4ef8-9604-2caff2a479bb"
      },
      "outputs": [
        {
          "data": {
            "text/plain": [
              "0        12.309987\n",
              "1        12.100718\n",
              "2        13.142168\n",
              "3        12.458779\n",
              "4        12.583999\n",
              "           ...    \n",
              "15030    13.322338\n",
              "15031    13.822984\n",
              "15032    12.793862\n",
              "15033    12.899222\n",
              "15034    12.691584\n",
              "Name: price, Length: 15035, dtype: float64"
            ]
          },
          "execution_count": 15,
          "metadata": {},
          "output_type": "execute_result"
        }
      ],
      "source": [
        "y = np.log1p(y)\n",
        "y"
      ]
    },
    {
      "cell_type": "code",
      "execution_count": null,
      "id": "tired-republic",
      "metadata": {
        "id": "tired-republic",
        "outputId": "1465d5fd-6e39-451a-b1e9-cc27b2266cc2"
      },
      "outputs": [
        {
          "data": {
            "image/png": "[encoded data removed]",
            "text/plain": [
              "<Figure size 432x288 with 1 Axes>"
            ]
          },
          "metadata": {},
          "output_type": "display_data"
        }
      ],
      "source": [
        "sns.kdeplot(y)\n",
        "plt.show()"
      ]
    },
    {
      "cell_type": "markdown",
      "id": "loving-stream",
      "metadata": {
        "id": "loving-stream"
      },
      "source": [
        "- 데이터의 스케일이 작아졌고, 분포도 정규분포와 비슷한 형태로 바뀌었다. "
      ]
    },
    {
      "cell_type": "code",
      "execution_count": null,
      "id": "norman-wiring",
      "metadata": {
        "id": "norman-wiring",
        "outputId": "a9f052e0-5f72-4d76-ff1c-ba23c43db80c"
      },
      "outputs": [
        {
          "name": "stdout",
          "output_type": "stream",
          "text": [
            "<class 'pandas.core.frame.DataFrame'>\n",
            "RangeIndex: 15035 entries, 0 to 15034\n",
            "Data columns (total 19 columns):\n",
            " #   Column         Non-Null Count  Dtype  \n",
            "---  ------         --------------  -----  \n",
            " 0   date           15035 non-null  int64  \n",
            " 1   bedrooms       15035 non-null  int64  \n",
            " 2   bathrooms      15035 non-null  float64\n",
            " 3   sqft_living    15035 non-null  int64  \n",
            " 4   sqft_lot       15035 non-null  int64  \n",
            " 5   floors         15035 non-null  float64\n",
            " 6   waterfront     15035 non-null  int64  \n",
            " 7   view           15035 non-null  int64  \n",
            " 8   condition      15035 non-null  int64  \n",
            " 9   grade          15035 non-null  int64  \n",
            " 10  sqft_above     15035 non-null  int64  \n",
            " 11  sqft_basement  15035 non-null  int64  \n",
            " 12  yr_built       15035 non-null  int64  \n",
            " 13  yr_renovated   15035 non-null  int64  \n",
            " 14  zipcode        15035 non-null  int64  \n",
            " 15  lat            15035 non-null  float64\n",
            " 16  long           15035 non-null  float64\n",
            " 17  sqft_living15  15035 non-null  int64  \n",
            " 18  sqft_lot15     15035 non-null  int64  \n",
            "dtypes: float64(4), int64(15)\n",
            "memory usage: 2.2 MB\n"
          ]
        }
      ],
      "source": [
        "train.info()"
      ]
    },
    {
      "cell_type": "markdown",
      "id": "furnished-leadership",
      "metadata": {
        "id": "furnished-leadership"
      },
      "source": [
        "## 02. build and train model\n",
        "- 하이퍼 파라미터 조정을 위한 함수 생성"
      ]
    },
    {
      "cell_type": "code",
      "execution_count": null,
      "id": "eastern-concept",
      "metadata": {
        "id": "eastern-concept"
      },
      "outputs": [],
      "source": [
        "from sklearn.model_selection import train_test_split\n",
        "from sklearn.metrics import mean_squared_error"
      ]
    },
    {
      "cell_type": "code",
      "execution_count": null,
      "id": "approximate-tracy",
      "metadata": {
        "id": "approximate-tracy"
      },
      "outputs": [],
      "source": [
        "def rmse(y_test, y_pred):\n",
        "    return np.sqrt(mean_squared_error(np.expm1(y_test), np.expm1(y_pred)))  # np.expml : 원래 스케일로 되돌리기"
      ]
    },
    {
      "cell_type": "code",
      "execution_count": null,
      "id": "composed-reply",
      "metadata": {
        "id": "composed-reply"
      },
      "outputs": [],
      "source": [
        "from xgboost import XGBRegressor\n",
        "from lightgbm import LGBMRegressor\n",
        "from sklearn.ensemble import GradientBoostingRegressor, RandomForestRegressor"
      ]
    },
    {
      "cell_type": "code",
      "execution_count": null,
      "id": "popular-unemployment",
      "metadata": {
        "id": "popular-unemployment"
      },
      "outputs": [],
      "source": [
        "random_state=1028\n",
        "\n",
        "gboost = GradientBoostingRegressor(random_state=random_state)\n",
        "xgboost = XGBRegressor(random_state=random_state)\n",
        "lightgbm = LGBMRegressor(random_state=random_state)\n",
        "rdforest = RandomForestRegressor(random_state=random_state)\n",
        "\n",
        "models = [gboost, xgboost, lightgbm, rdforest]"
      ]
    },
    {
      "cell_type": "code",
      "execution_count": null,
      "id": "wooden-investment",
      "metadata": {
        "id": "wooden-investment",
        "outputId": "14514a18-bdae-48b1-f705-a999f6dfcffb"
      },
      "outputs": [
        {
          "data": {
            "text/plain": [
              "'GradientBoostingRegressor'"
            ]
          },
          "execution_count": 22,
          "metadata": {},
          "output_type": "execute_result"
        }
      ],
      "source": [
        "gboost.__class__.__name__"
      ]
    },
    {
      "cell_type": "code",
      "execution_count": null,
      "id": "attached-butler",
      "metadata": {
        "id": "attached-butler",
        "outputId": "e6df2ede-a0fc-40b0-e79d-a747af5c59d3"
      },
      "outputs": [
        {
          "data": {
            "text/plain": [
              "{'GradientBoostingRegressor': 124131.19692815996,\n",
              " 'XGBRegressor': 106615.63530702426,\n",
              " 'LGBMRegressor': 107257.79913572696,\n",
              " 'RandomForestRegressor': 134623.62574778864}"
            ]
          },
          "execution_count": 23,
          "metadata": {},
          "output_type": "execute_result"
        }
      ],
      "source": [
        "df = {}\n",
        "\n",
        "for model in models:\n",
        "    # 모델 이름 획득\n",
        "    model_name = model.__class__.__name__\n",
        "\n",
        "    # train, test 데이터셋 분리 - 여기에도 random_state를 고정합니다. \n",
        "    X_train, X_test, y_train, y_test = train_test_split(train, y, random_state=random_state, test_size=0.2)\n",
        "\n",
        "    # 모델 학습\n",
        "    model.fit(X_train, y_train)\n",
        "    \n",
        "    # 예측\n",
        "    y_pred = model.predict(X_test)\n",
        "\n",
        "    # 예측 결과의 rmse값 저장\n",
        "    df[model_name] = rmse(y_test, y_pred)\n",
        "    \n",
        "    # data frame에 저장\n",
        "    score_df = pd.DataFrame(df, index=['RMSE']).T.sort_values('RMSE', ascending=False)\n",
        "    \n",
        "df"
      ]
    },
    {
      "cell_type": "markdown",
      "id": "mysterious-given",
      "metadata": {
        "id": "mysterious-given"
      },
      "source": [
        "- 위의 과정을 함수로 생성"
      ]
    },
    {
      "cell_type": "code",
      "execution_count": null,
      "id": "flush-serum",
      "metadata": {
        "id": "flush-serum",
        "outputId": "be79357f-e233-4a25-b153-7f78e9ef5337"
      },
      "outputs": [
        {
          "data": {
            "text/html": [
              "<div>\n",
              "<style scoped>\n",
              "    .dataframe tbody tr th:only-of-type {\n",
              "        vertical-align: middle;\n",
              "    }\n",
              "\n",
              "    .dataframe tbody tr th {\n",
              "        vertical-align: top;\n",
              "    }\n",
              "\n",
              "    .dataframe thead th {\n",
              "        text-align: right;\n",
              "    }\n",
              "</style>\n",
              "<table border=\"1\" class=\"dataframe\">\n",
              "  <thead>\n",
              "    <tr style=\"text-align: right;\">\n",
              "      <th></th>\n",
              "      <th>RMSE</th>\n",
              "    </tr>\n",
              "  </thead>\n",
              "  <tbody>\n",
              "    <tr>\n",
              "      <th>RandomForestRegressor</th>\n",
              "      <td>134623.625748</td>\n",
              "    </tr>\n",
              "    <tr>\n",
              "      <th>GradientBoostingRegressor</th>\n",
              "      <td>124131.196928</td>\n",
              "    </tr>\n",
              "    <tr>\n",
              "      <th>LGBMRegressor</th>\n",
              "      <td>107257.799136</td>\n",
              "    </tr>\n",
              "    <tr>\n",
              "      <th>XGBRegressor</th>\n",
              "      <td>106615.635307</td>\n",
              "    </tr>\n",
              "  </tbody>\n",
              "</table>\n",
              "</div>"
            ],
            "text/plain": [
              "                                    RMSE\n",
              "RandomForestRegressor      134623.625748\n",
              "GradientBoostingRegressor  124131.196928\n",
              "LGBMRegressor              107257.799136\n",
              "XGBRegressor               106615.635307"
            ]
          },
          "execution_count": 24,
          "metadata": {},
          "output_type": "execute_result"
        }
      ],
      "source": [
        "def get_scores(models, train, y):\n",
        "    # 답안 작성\n",
        "    df = {}\n",
        "\n",
        "    for model in models:\n",
        "        model_name = model.__class__.__name__\n",
        "\n",
        "        X_train, X_test, y_train, y_test = train_test_split(train, y, random_state=random_state, test_size=0.2)\n",
        "        model.fit(X_train, y_train)\n",
        "        y_pred = model.predict(X_test)\n",
        "\n",
        "        df[model_name] = rmse(y_test, y_pred)\n",
        "        score_df = pd.DataFrame(df, index=['RMSE']).T.sort_values('RMSE', ascending=False)\n",
        "\n",
        "    return score_df\n",
        "\n",
        "get_scores(models, train, y)"
      ]
    },
    {
      "cell_type": "markdown",
      "id": "blank-jefferson",
      "metadata": {
        "id": "blank-jefferson"
      },
      "source": [
        "## 03. tune hyperparameter\n",
        "- 그리드 탐색"
      ]
    },
    {
      "cell_type": "code",
      "execution_count": null,
      "id": "egyptian-luther",
      "metadata": {
        "id": "egyptian-luther"
      },
      "outputs": [],
      "source": [
        "from sklearn.model_selection import GridSearchCV\n",
        "\n",
        "param_grid = {\n",
        "    'n_estimators': [100],\n",
        "    'max_depth': [10, 11], \n",
        "    'gamma': [0.5, 0.7, 0.3],\n",
        "    'learning_rate': [0.029, 0.03],\n",
        "    'boosting':[\"gbdt\"],\n",
        "    'num_iteration': [2500, 3000],\n",
        "    \"num_leaves\" :[18, 19, 20],\n",
        "    \"objective\" : [\"regression\"],\n",
        "    \"bagging_freq\":[1],\n",
        "    \"bagging_fraction\":[0.7, 0.8, 0.9]\n",
        "}"
      ]
    },
    {
      "cell_type": "code",
      "execution_count": null,
      "id": "worst-treasurer",
      "metadata": {
        "id": "worst-treasurer"
      },
      "outputs": [],
      "source": [
        "model = LGBMRegressor(random_state=random_state)\n",
        "# model = XGBRegressor(random_state=random_state)"
      ]
    },
    {
      "cell_type": "code",
      "execution_count": null,
      "id": "distinct-nomination",
      "metadata": {
        "scrolled": false,
        "id": "distinct-nomination",
        "outputId": "844cddcc-5fd8-4c59-87bf-d5a482009741"
      },
      "outputs": [
        {
          "name": "stdout",
          "output_type": "stream",
          "text": [
            "Fitting 5 folds for each of 216 candidates, totalling 1080 fits\n"
          ]
        },
        {
          "name": "stderr",
          "output_type": "stream",
          "text": [
            "[Parallel(n_jobs=5)]: Using backend LokyBackend with 5 concurrent workers.\n",
            "[Parallel(n_jobs=5)]: Done  40 tasks      | elapsed:  2.1min\n"
          ]
        }
      ],
      "source": [
        "grid_model = GridSearchCV(model, param_grid=param_grid, \\\n",
        "                        scoring='neg_mean_squared_error', \\\n",
        "                        cv=5, verbose=1, n_jobs=5)\n",
        "\n",
        "grid_model.fit(train, y)"
      ]
    },
    {
      "cell_type": "code",
      "execution_count": null,
      "id": "temporal-makeup",
      "metadata": {
        "id": "temporal-makeup"
      },
      "outputs": [],
      "source": [
        "import sklearn\n",
        "sklearn. __version__ "
      ]
    },
    {
      "cell_type": "markdown",
      "id": "norwegian-austria",
      "metadata": {
        "id": "norwegian-austria"
      },
      "source": [
        "**keyerror base_score**   \n",
        "    : sklearn version 0.23.0 -> 0.23.1로 업그레이드 후 해결   \n",
        "- 결과 확인"
      ]
    },
    {
      "cell_type": "code",
      "execution_count": null,
      "id": "aerial-watson",
      "metadata": {
        "id": "aerial-watson"
      },
      "outputs": [],
      "source": [
        "grid_model.cv_results_"
      ]
    },
    {
      "cell_type": "code",
      "execution_count": null,
      "id": "neutral-conspiracy",
      "metadata": {
        "id": "neutral-conspiracy"
      },
      "outputs": [],
      "source": [
        "params = grid_model.cv_results_['params']\n",
        "params"
      ]
    },
    {
      "cell_type": "code",
      "execution_count": null,
      "id": "portable-limitation",
      "metadata": {
        "id": "portable-limitation"
      },
      "outputs": [],
      "source": [
        "score = grid_model.cv_results_['mean_test_score']\n",
        "score"
      ]
    },
    {
      "cell_type": "code",
      "execution_count": null,
      "id": "bearing-peoples",
      "metadata": {
        "id": "bearing-peoples"
      },
      "outputs": [],
      "source": [
        "results = pd.DataFrame(params)\n",
        "results['score'] = score\n",
        "\n",
        "results"
      ]
    },
    {
      "cell_type": "markdown",
      "id": "heavy-singer",
      "metadata": {
        "id": "heavy-singer"
      },
      "source": [
        "- **최적화된 하이퍼 파라미터**"
      ]
    },
    {
      "cell_type": "code",
      "execution_count": null,
      "id": "isolated-limitation",
      "metadata": {
        "scrolled": true,
        "id": "isolated-limitation"
      },
      "outputs": [],
      "source": [
        "grid_model.best_params_"
      ]
    },
    {
      "cell_type": "code",
      "execution_count": null,
      "id": "angry-composer",
      "metadata": {
        "id": "angry-composer"
      },
      "outputs": [],
      "source": [
        "results['RMSLE'] = np.sqrt(-1 * results['score'])\n",
        "results"
      ]
    },
    {
      "cell_type": "markdown",
      "id": "productive-producer",
      "metadata": {
        "id": "productive-producer"
      },
      "source": [
        "- RMSLE를 기준으로 정렬"
      ]
    },
    {
      "cell_type": "code",
      "execution_count": null,
      "id": "adverse-tradition",
      "metadata": {
        "id": "adverse-tradition"
      },
      "outputs": [],
      "source": [
        "results = results.sort_values('RMSLE')\n",
        "results[:10]"
      ]
    },
    {
      "cell_type": "markdown",
      "id": "registered-incentive",
      "metadata": {
        "id": "registered-incentive"
      },
      "source": [
        "- 그리드 탐색을 통해, 최적의 하이퍼 파라미터를 알 수 있었다.(lgb, xgboost)\n",
        "    - gamma = 0.5\n",
        "    - learning rate = 0.05\n",
        "    - max depth = 10\n",
        "    - n_estimators = 100\n",
        "    \n",
        "## 04. 함수로 튜닝하면서 학습하기"
      ]
    },
    {
      "cell_type": "code",
      "execution_count": null,
      "id": "upset-bunny",
      "metadata": {
        "id": "upset-bunny"
      },
      "outputs": [],
      "source": [
        "def my_GridSearch(model, train, y, param_grid, verbose=2, n_jobs=5):\n",
        "    # GridSearchCV 모델로 초기화\n",
        "    grid_model = GridSearchCV(model, param_grid=param_grid, scoring='neg_mean_squared_error', \\\n",
        "                              cv=5, verbose=verbose, n_jobs=n_jobs)\n",
        "\n",
        "    # 모델 fitting\n",
        "    grid_model.fit(train, y)\n",
        "\n",
        "    # 결과값 저장\n",
        "    params = grid_model.cv_results_['params']\n",
        "    score = grid_model.cv_results_['mean_test_score']\n",
        "\n",
        "    # 데이터 프레임 생성\n",
        "    results = pd.DataFrame(params)\n",
        "    results['score'] = score\n",
        "\n",
        "    # RMSLE 값 계산 후 정렬\n",
        "    results['RMSLE'] = np.sqrt(-1 * results['score'])\n",
        "    results = results.sort_values('RMSLE')\n",
        "\n",
        "    return results"
      ]
    },
    {
      "cell_type": "code",
      "execution_count": null,
      "id": "fewer-detector",
      "metadata": {
        "id": "fewer-detector"
      },
      "outputs": [],
      "source": [
        "model = LGBMRegressor(random_state=random_state, n_estimators=100,\n",
        "    max_depth=11, \n",
        "    gamma=0.7,\n",
        "    learning_rate=0.029,\n",
        "    boosting=\"gbdt\",\n",
        "    num_iteration=2500,\n",
        "    objective=\"regression\",\n",
        "    num_leaves=20,\n",
        "     bagging_freq=1,\n",
        "    bagging_fraction=0.9)\n",
        "# model = XGBRegressor(max_depth=10, n_estimators=100, random_state=random_state)\n",
        "\n",
        "# model.fit(train, y)\n",
        "# prediction = model.predict(test)\n",
        "# prediction"
      ]
    },
    {
      "cell_type": "markdown",
      "id": "future-bottle",
      "metadata": {
        "id": "future-bottle"
      },
      "source": [
        "- 로그변환했던 것을 되돌려서 원래 스케일로 만들기"
      ]
    },
    {
      "cell_type": "code",
      "execution_count": null,
      "id": "fatty-adjustment",
      "metadata": {
        "id": "fatty-adjustment"
      },
      "outputs": [],
      "source": [
        "prediction = np.expm1(prediction)\n",
        "prediction"
      ]
    },
    {
      "cell_type": "code",
      "execution_count": null,
      "id": "mighty-stake",
      "metadata": {
        "id": "mighty-stake"
      },
      "outputs": [],
      "source": [
        "data_dir = os.getenv('HOME')+'/Projects/Project_Aiffel/data'\n",
        "\n",
        "submission_path = join(data_dir, 'sample_submission.csv')\n",
        "submission = pd.read_csv(submission_path)\n",
        "submission.head()"
      ]
    },
    {
      "cell_type": "markdown",
      "id": "pretty-freeze",
      "metadata": {
        "id": "pretty-freeze"
      },
      "source": [
        "- sample 프레임에 학습으로 예측한 값을 붙여주기"
      ]
    },
    {
      "cell_type": "code",
      "execution_count": null,
      "id": "visible-private",
      "metadata": {
        "id": "visible-private"
      },
      "outputs": [],
      "source": [
        "submission['price'] = prediction\n",
        "submission.head()"
      ]
    },
    {
      "cell_type": "code",
      "execution_count": null,
      "id": "brief-conversation",
      "metadata": {
        "id": "brief-conversation"
      },
      "outputs": [],
      "source": [
        "submission_csv_path = '{}/submission_{}_RMSLE_{}.csv'.format(data_dir, 'lgbm', '0.160072')\n",
        "submission.to_csv(submission_csv_path, index=False)\n",
        "print(submission_csv_path)"
      ]
    },
    {
      "cell_type": "code",
      "execution_count": null,
      "id": "metallic-northern",
      "metadata": {
        "id": "metallic-northern"
      },
      "outputs": [],
      "source": [
        "def save_submission(model, train, y, test, model_name, rmsle=None):\n",
        "    model.fit(train, y)\n",
        "    prediction = model.predict(test)\n",
        "    prediction = np.expm1(prediction)\n",
        "    data_dir = os.getenv('HOME')+'/Projects/Project_Aiffel/data'\n",
        "    submission_path = join(data_dir, 'sample_submission.csv')\n",
        "    submission = pd.read_csv(submission_path)\n",
        "    submission['price'] = prediction\n",
        "    submission_csv_path = '{}/submission_{}_RMSLE_{}.csv'.format(data_dir, model_name, rmsle)\n",
        "    submission.to_csv(submission_csv_path, index=False)\n",
        "    print('{} saved!'.format(submission_csv_path))"
      ]
    },
    {
      "cell_type": "code",
      "execution_count": null,
      "id": "northern-phone",
      "metadata": {
        "id": "northern-phone"
      },
      "outputs": [],
      "source": [
        "save_submission(model, train, y, test, 'lgbm', rmsle='0.159458')"
      ]
    },
    {
      "cell_type": "markdown",
      "id": "marine-contest",
      "metadata": {
        "id": "marine-contest"
      },
      "source": [
        "## 05. 캐글 제출, 스코어 확인\n",
        "---\n",
        "![exp9_score](https://user-images.githubusercontent.com/68461606/108395270-f6e7b180-7258-11eb-8323-d2ac511bb821.png)\n"
      ]
    },
    {
      "cell_type": "markdown",
      "id": "funky-provision",
      "metadata": {
        "id": "funky-provision"
      },
      "source": [
        "# 정리     \n",
        "---        \n",
        "1. 데이터 준비와 전처리\n",
        "    - target data 분리\n",
        "    - 불필요한 데이터 삭제\n",
        "    - 정수형 데이터로 변환\n",
        "    - 데이터 분포, 연관성 확인\n",
        "2. 하이퍼 파라미터 튜닝\n",
        "    - 그리드 서치를 이용해서 가장 잘 학습된 하이퍼 파라미터를 확인\n",
        "3. 제출 파일 생성\n",
        "\n",
        "\n",
        "\n",
        "# 루브릭 평가\n",
        "---\n",
        "1. **캐글 데이터분석 전과정이 성공적으로 진행되었는가?**   \n",
        "    - 하이퍼 여러 파라미터 튜닝을 시도\n",
        "\n",
        "\n",
        "2. **전처리, 학습과정 및 결과에 대한 설명이 시각화를 포함하여 체계적으로 진행되었는가?**  \n",
        "    - 전체 흐름은 간략하게 서술했으며, 시각화를 히트맵으로 시도\n",
        "    \n",
        "     \n",
        "3. **회귀모델 예측정확도가 기준 이상 높게 나왔는가?**  \n",
        "    - 110294.34489 점을 달성\n",
        "\n",
        "    \n",
        "# 회고\n",
        "---\n",
        "## 어려웠던 점 \n",
        "- 데이터 앙상블을 하지 못했다\n",
        "    \n",
        "    \n",
        "## 알게된 점 \n",
        "- low, high model\n",
        "    - 트리 탐색을 이용한 모델들의 경우, 튜닝할 수 있는 하이퍼 파라미터에 따라 low, medium, high 모델로 나눌 수 있다.\n",
        "    \n",
        "    \n",
        "## 더 공부할 점\n",
        "- feature encoding\n",
        "    - 다른 프로젝트를 할 때 모든 feature에 대해 label 혹은 one hot 인코딩을 했는데, 아이펠 노드에서는 자주 보지 못한 것 같다. regression에서는 잘 사용되지 않는 건지 더 공부해봐야겠다.\n",
        "- 모델에 대한 이해\n",
        "    - 모델에 대한 공부 없이 파라미터에 대해서만 간략히 공부 후 적용하려니 단순 반복과 감에 의존해야했던 점이 어려웠다.\n",
        "    - 캐글에서 좋은 점수를 얻을 수 있는 모델들에 대해서도 구조를 공부해야겠다.\n",
        "    \n",
        "    \n",
        "## 시도한 것들\n",
        "- 혼자 해결하기 어려운 점이 많았어서, 깃헙에 있는 선배들의 코드를 참고했다.\n",
        "\n",
        "- 하이퍼 파라미터 튜닝\n",
        "    - n_estimators, max_depth, gamma, learning_rate, boosting, num_iteration, objective, num_leaves, bagging_freq, bagging_fraction \n",
        "    - 여러 파라미터로 다양한 시도를 함\n",
        "    - 스케일을 넓게 잡고 그 안에서 더 작은 스케일로 그리드 탐색을 함 \n",
        "    \n",
        "    \n",
        "## 지표 달성하지 못한 이유\n",
        "- 앙상블을 못한점, 그리고 데이터 전처리를 다양하게 하지 못했고,하이퍼 파라미터 튜닝에만 힘을 썼다. 좀더 지표에 가까운 점수를 만들어낼 수 있었지만, 앙상블을 더 했으면 좋았을 것 같다. xgboost는 너무 시간이 오래걸리고, 스코어가 매우 낮기 때문에 light bgm으로 선택했다. 탐색 깊이(하이퍼 파라미터)에 따라 low, high 모델로 나뉜다는 것을 알았기 때문에 파라미터를 나누어서 앙상블하면 결과가 어떨지 궁금하다.\n",
        "\n",
        "\n",
        "\n",
        "\n",
        "## 다짐\n",
        "- 데이터를 파고드는 연습이 필요하다."
      ]
    }
  ],
  "metadata": {
    "kernelspec": {
      "display_name": "Python 3",
      "language": "python",
      "name": "python3"
    },
    "language_info": {
      "codemirror_mode": {
        "name": "ipython",
        "version": 3
      },
      "file_extension": ".py",
      "mimetype": "text/x-python",
      "name": "python",
      "nbconvert_exporter": "python",
      "pygments_lexer": "ipython3",
      "version": "3.7.9"
    },
    "colab": {
      "name": "E06_my first kaggle.ipynb",
      "provenance": []
    }
  },
  "nbformat": 4,
  "nbformat_minor": 5
}